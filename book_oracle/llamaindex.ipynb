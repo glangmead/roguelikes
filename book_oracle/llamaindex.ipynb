{
 "cells": [
  {
   "cell_type": "markdown",
   "id": "15c2e88b-ce89-43ab-9e23-bd6abf4d88d9",
   "metadata": {},
   "source": [
    "# Setup\n",
    "\n",
    "* Obtain some documents that are [supported by llamaindex](https://docs.llamaindex.ai/en/stable/module_guides/loading/simpledirectoryreader/)\n",
    "* Put those documents into a single directory in the same directory as this notebook.\n",
    "* Change `UNIVERSE` to be your directory name\n",
    "* Change `MODEL` to be a model you installed locally with [ollama](https://ollama.com)\n",
    "* Run the pip cell, then the next cell.\n",
    "\n",
    "To index four novels it took my M3 Macbook Pro about an hour."
   ]
  },
  {
   "cell_type": "code",
   "execution_count": null,
   "id": "72ecf096-6ff8-485f-8216-20ed55399ffa",
   "metadata": {},
   "outputs": [],
   "source": [
    "%pip install ipywidgets llama-index llama-index-llms-ollama llama-index-embeddings-ollama EbookLib html2text"
   ]
  },
  {
   "cell_type": "code",
   "execution_count": null,
   "id": "38285ff0-591d-4d41-b53e-c8875439c5bf",
   "metadata": {},
   "outputs": [
    {
     "data": {
      "application/vnd.jupyter.widget-view+json": {
       "model_id": "5a9858e57b3a474d96641c9047b86dd7",
       "version_major": 2,
       "version_minor": 0
      },
      "text/plain": [
       "Generating embeddings:   0%|          | 0/2048 [00:00<?, ?it/s]"
      ]
     },
     "metadata": {},
     "output_type": "display_data"
    },
    {
     "data": {
      "application/vnd.jupyter.widget-view+json": {
       "model_id": "651372edb2964c04a1c6dbe2812e17e5",
       "version_major": 2,
       "version_minor": 0
      },
      "text/plain": [
       "Generating embeddings:   0%|          | 0/2048 [00:00<?, ?it/s]"
      ]
     },
     "metadata": {},
     "output_type": "display_data"
    }
   ],
   "source": [
    "import os\n",
    "\n",
    "from llama_index.core import load_index_from_storage, Settings, Document, SimpleDirectoryReader, StorageContext, VectorStoreIndex\n",
    "from llama_index.core.node_parser import SentenceWindowNodeParser\n",
    "from llama_index.embeddings.ollama import OllamaEmbedding\n",
    "\n",
    "UNIVERSE=\"universe1\"\n",
    "MODEL=\"llama3.2:3b-instruct-q8_0\"\n",
    "\n",
    "ollama_embedding = OllamaEmbedding(\n",
    "    model_name=MODEL,\n",
    "    base_url=\"http://localhost:11434\",\n",
    ")\n",
    "\n",
    "node_parser = SentenceWindowNodeParser.from_defaults(\n",
    "    window_size=3,\n",
    "    window_metadata_key=\"window\",\n",
    "    original_text_metadata_key=\"original_text\",\n",
    ")\n",
    "\n",
    "Settings.embed_model=ollama_embedding\n",
    "\n",
    "VECTOR_STORE_DISK=f\"{UNIVERSE}.{MODEL}.index\"\n",
    "if not os.path.exists(VECTOR_STORE_DISK):\n",
    "    reader = SimpleDirectoryReader(input_dir=UNIVERSE, recursive=True)\n",
    "    documents = reader.load_data()\n",
    "    nodes = node_parser.get_nodes_from_documents(documents)\n",
    "    index = VectorStoreIndex(nodes, show_progress=True)\n",
    "    index.storage_context.persist(VECTOR_STORE_DISK)\n",
    "\n",
    "index = load_index_from_storage(StorageContext.from_defaults(persist_dir=VECTOR_STORE_DISK))\n",
    "endpoint = index.as_retriever(similarity_top_k=10)\n"
   ]
  },
  {
   "cell_type": "code",
   "execution_count": 107,
   "id": "1d866c7b-fbb7-4ba1-bee6-8e58335b0150",
   "metadata": {},
   "outputs": [
    {
     "name": "stdout",
     "output_type": "stream",
     "text": [
      "1. You may think them wonderful, but I have seen a greater wonder in this land, more beautiful than any grove or glade that ever grew: my heart is still full of it.  \n",
      "2. Not only was there wonderful sunshine and delicious rain, in due times and perfect measure, but there seemed something more: an air of richness and growth, and a gleam of a beauty beyond that of mortal summers that flicker and pass upon this Middle- earth. \n",
      "3. In the Party Field a beautiful young sapling leaped up: it had silver bark and long leaves and burst into golden flowers in April. \n",
      "4. It is a rich and pleasant land, and its grass has no rival; but in these evil days folk do not dwell by the River or ride often to its shores. \n",
      "5. And they observed the winds and the air, and the matters of which Arda was made, of iron and stone and silver and gold and many substances: but of all these water they most greatly praised. \n",
      "6. Leaf and branch, water and stone: they have the hue and beauty of all these things under the twilight of Lórien that we love; for we put the thought of all that we love into all that we make. \n",
      "7. Upon the south side of the lawn there stood the mightiest of all the trees; its great smooth bole gleamed like grey silk, and up it towered, until its first branches, far above, opened their huge limbs under shadowy clouds of leaves. \n",
      "8. Far away it seemed, and beautiful: white-walled, many-towered, proud and fair upon its mountain-seat; its battlements glittered with steel, and its turrets were bright with many banners. \n",
      "9. He walked along the terraces above the loud-flowing Bruinen and watched the pale, cool sun rise above the far mountains, and shine down, slanting through the thin silver mist; the dew upon the yellow leaves was glimmering, and the woven nets of gossamer twinkled on every bush. \n",
      "10. But the Entwives gave their minds to the lesser trees, and to the meads in the sunshine beyond the feet of the forests; and they saw the sloe in the thicket, and the wild apple and the cherry blossoming in spring, and the green herbs in the waterlands in summer, and the seeding grasses in the autumn fields. \n"
     ]
    }
   ],
   "source": [
    "response = endpoint.retrieve(\"The rapturous beauty of nature\")\n",
    "for i in range(len(response)):\n",
    "    print(f\"{i+1}. \" +response[i].text.replace(\"\\n\", \" \"))"
   ]
  }
 ],
 "metadata": {
  "kernelspec": {
   "display_name": "Python [conda env:py3] *",
   "language": "python",
   "name": "conda-env-py3-py"
  },
  "language_info": {
   "codemirror_mode": {
    "name": "ipython",
    "version": 3
   },
   "file_extension": ".py",
   "mimetype": "text/x-python",
   "name": "python",
   "nbconvert_exporter": "python",
   "pygments_lexer": "ipython3",
   "version": "3.11.0"
  }
 },
 "nbformat": 4,
 "nbformat_minor": 5
}
