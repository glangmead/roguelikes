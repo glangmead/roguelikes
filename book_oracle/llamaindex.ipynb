{
 "cells": [
  {
   "cell_type": "markdown",
   "id": "15c2e88b-ce89-43ab-9e23-bd6abf4d88d9",
   "metadata": {},
   "source": [
    "# Setup\n",
    "\n",
    "* Obtain some documents that are [supported by llamaindex](https://docs.llamaindex.ai/en/stable/module_guides/loading/simpledirectoryreader/)\n",
    "* Put those documents into a single directory in the same directory as this notebook.\n",
    "* Change `UNIVERSE` to be your directory name\n",
    "* Change `MODEL` to be a model you installed locally with [ollama](https://ollama.com)\n",
    "* Run the pip cell, then the next cell.\n",
    "\n",
    "To index four novels it took my M3 Macbook Pro about an hour."
   ]
  },
  {
   "cell_type": "code",
   "execution_count": 2,
   "id": "72ecf096-6ff8-485f-8216-20ed55399ffa",
   "metadata": {
    "collapsed": true,
    "jupyter": {
     "outputs_hidden": true
    }
   },
   "outputs": [
    {
     "name": "stdout",
     "output_type": "stream",
     "text": [
      "Collecting ipywidgets\n",
      "  Downloading ipywidgets-8.1.7-py3-none-any.whl.metadata (2.4 kB)\n",
      "Requirement already satisfied: llama-index in /Users/glangmead/miniforge3/envs/py3/lib/python3.11/site-packages (0.12.43)\n",
      "Requirement already satisfied: llama-index-llms-ollama in /Users/glangmead/miniforge3/envs/py3/lib/python3.11/site-packages (0.6.2)\n",
      "Requirement already satisfied: llama-index-embeddings-ollama in /Users/glangmead/miniforge3/envs/py3/lib/python3.11/site-packages (0.6.0)\n",
      "Requirement already satisfied: EbookLib in /Users/glangmead/miniforge3/envs/py3/lib/python3.11/site-packages (0.19)\n",
      "Requirement already satisfied: html2text in /Users/glangmead/miniforge3/envs/py3/lib/python3.11/site-packages (2025.4.15)\n",
      "Requirement already satisfied: comm>=0.1.3 in /Users/glangmead/miniforge3/envs/py3/lib/python3.11/site-packages (from ipywidgets) (0.2.2)\n",
      "Requirement already satisfied: ipython>=6.1.0 in /Users/glangmead/miniforge3/envs/py3/lib/python3.11/site-packages (from ipywidgets) (8.29.0)\n",
      "Requirement already satisfied: traitlets>=4.3.1 in /Users/glangmead/miniforge3/envs/py3/lib/python3.11/site-packages (from ipywidgets) (5.14.3)\n",
      "Collecting widgetsnbextension~=4.0.14 (from ipywidgets)\n",
      "  Downloading widgetsnbextension-4.0.14-py3-none-any.whl.metadata (1.6 kB)\n",
      "Collecting jupyterlab_widgets~=3.0.15 (from ipywidgets)\n",
      "  Downloading jupyterlab_widgets-3.0.15-py3-none-any.whl.metadata (20 kB)\n",
      "Requirement already satisfied: llama-index-agent-openai<0.5,>=0.4.0 in /Users/glangmead/miniforge3/envs/py3/lib/python3.11/site-packages (from llama-index) (0.4.11)\n",
      "Requirement already satisfied: llama-index-cli<0.5,>=0.4.2 in /Users/glangmead/miniforge3/envs/py3/lib/python3.11/site-packages (from llama-index) (0.4.3)\n",
      "Requirement already satisfied: llama-index-core<0.13,>=0.12.43 in /Users/glangmead/miniforge3/envs/py3/lib/python3.11/site-packages (from llama-index) (0.12.43)\n",
      "Requirement already satisfied: llama-index-embeddings-openai<0.4,>=0.3.0 in /Users/glangmead/miniforge3/envs/py3/lib/python3.11/site-packages (from llama-index) (0.3.1)\n",
      "Requirement already satisfied: llama-index-indices-managed-llama-cloud>=0.4.0 in /Users/glangmead/miniforge3/envs/py3/lib/python3.11/site-packages (from llama-index) (0.7.7)\n",
      "Requirement already satisfied: llama-index-llms-openai<0.5,>=0.4.0 in /Users/glangmead/miniforge3/envs/py3/lib/python3.11/site-packages (from llama-index) (0.4.7)\n",
      "Requirement already satisfied: llama-index-multi-modal-llms-openai<0.6,>=0.5.0 in /Users/glangmead/miniforge3/envs/py3/lib/python3.11/site-packages (from llama-index) (0.5.1)\n",
      "Requirement already satisfied: llama-index-program-openai<0.4,>=0.3.0 in /Users/glangmead/miniforge3/envs/py3/lib/python3.11/site-packages (from llama-index) (0.3.2)\n",
      "Requirement already satisfied: llama-index-question-gen-openai<0.4,>=0.3.0 in /Users/glangmead/miniforge3/envs/py3/lib/python3.11/site-packages (from llama-index) (0.3.1)\n",
      "Requirement already satisfied: llama-index-readers-file<0.5,>=0.4.0 in /Users/glangmead/miniforge3/envs/py3/lib/python3.11/site-packages (from llama-index) (0.4.9)\n",
      "Requirement already satisfied: llama-index-readers-llama-parse>=0.4.0 in /Users/glangmead/miniforge3/envs/py3/lib/python3.11/site-packages (from llama-index) (0.4.0)\n",
      "Requirement already satisfied: nltk>3.8.1 in /Users/glangmead/miniforge3/envs/py3/lib/python3.11/site-packages (from llama-index) (3.9.1)\n",
      "Requirement already satisfied: openai>=1.14.0 in /Users/glangmead/miniforge3/envs/py3/lib/python3.11/site-packages (from llama-index-agent-openai<0.5,>=0.4.0->llama-index) (1.88.0)\n",
      "Requirement already satisfied: aiohttp<4,>=3.8.6 in /Users/glangmead/miniforge3/envs/py3/lib/python3.11/site-packages (from llama-index-core<0.13,>=0.12.43->llama-index) (3.11.18)\n",
      "Requirement already satisfied: aiosqlite in /Users/glangmead/miniforge3/envs/py3/lib/python3.11/site-packages (from llama-index-core<0.13,>=0.12.43->llama-index) (0.21.0)\n",
      "Requirement already satisfied: banks<3,>=2.0.0 in /Users/glangmead/miniforge3/envs/py3/lib/python3.11/site-packages (from llama-index-core<0.13,>=0.12.43->llama-index) (2.1.2)\n",
      "Requirement already satisfied: dataclasses-json in /Users/glangmead/miniforge3/envs/py3/lib/python3.11/site-packages (from llama-index-core<0.13,>=0.12.43->llama-index) (0.6.7)\n",
      "Requirement already satisfied: deprecated>=1.2.9.3 in /Users/glangmead/miniforge3/envs/py3/lib/python3.11/site-packages (from llama-index-core<0.13,>=0.12.43->llama-index) (1.2.18)\n",
      "Requirement already satisfied: dirtyjson<2,>=1.0.8 in /Users/glangmead/miniforge3/envs/py3/lib/python3.11/site-packages (from llama-index-core<0.13,>=0.12.43->llama-index) (1.0.8)\n",
      "Requirement already satisfied: filetype<2,>=1.2.0 in /Users/glangmead/miniforge3/envs/py3/lib/python3.11/site-packages (from llama-index-core<0.13,>=0.12.43->llama-index) (1.2.0)\n",
      "Requirement already satisfied: fsspec>=2023.5.0 in /Users/glangmead/miniforge3/envs/py3/lib/python3.11/site-packages (from llama-index-core<0.13,>=0.12.43->llama-index) (2025.3.2)\n",
      "Requirement already satisfied: httpx in /Users/glangmead/miniforge3/envs/py3/lib/python3.11/site-packages (from llama-index-core<0.13,>=0.12.43->llama-index) (0.28.1)\n",
      "Requirement already satisfied: llama-index-workflows>=0.2.1 in /Users/glangmead/miniforge3/envs/py3/lib/python3.11/site-packages (from llama-index-core<0.13,>=0.12.43->llama-index) (0.2.2)\n",
      "Requirement already satisfied: nest-asyncio<2,>=1.5.8 in /Users/glangmead/miniforge3/envs/py3/lib/python3.11/site-packages (from llama-index-core<0.13,>=0.12.43->llama-index) (1.6.0)\n",
      "Requirement already satisfied: networkx>=3.0 in /Users/glangmead/miniforge3/envs/py3/lib/python3.11/site-packages (from llama-index-core<0.13,>=0.12.43->llama-index) (3.4.2)\n",
      "Requirement already satisfied: numpy in /Users/glangmead/miniforge3/envs/py3/lib/python3.11/site-packages (from llama-index-core<0.13,>=0.12.43->llama-index) (1.26.4)\n",
      "Requirement already satisfied: pillow>=9.0.0 in /Users/glangmead/miniforge3/envs/py3/lib/python3.11/site-packages (from llama-index-core<0.13,>=0.12.43->llama-index) (11.2.1)\n",
      "Requirement already satisfied: pydantic>=2.8.0 in /Users/glangmead/miniforge3/envs/py3/lib/python3.11/site-packages (from llama-index-core<0.13,>=0.12.43->llama-index) (2.11.7)\n",
      "Requirement already satisfied: pyyaml>=6.0.1 in /Users/glangmead/miniforge3/envs/py3/lib/python3.11/site-packages (from llama-index-core<0.13,>=0.12.43->llama-index) (6.0.2)\n",
      "Requirement already satisfied: requests>=2.31.0 in /Users/glangmead/miniforge3/envs/py3/lib/python3.11/site-packages (from llama-index-core<0.13,>=0.12.43->llama-index) (2.32.3)\n",
      "Requirement already satisfied: setuptools>=80.9.0 in /Users/glangmead/miniforge3/envs/py3/lib/python3.11/site-packages (from llama-index-core<0.13,>=0.12.43->llama-index) (80.9.0)\n",
      "Requirement already satisfied: sqlalchemy>=1.4.49 in /Users/glangmead/miniforge3/envs/py3/lib/python3.11/site-packages (from sqlalchemy[asyncio]>=1.4.49->llama-index-core<0.13,>=0.12.43->llama-index) (2.0.36)\n",
      "Requirement already satisfied: tenacity!=8.4.0,<10.0.0,>=8.2.0 in /Users/glangmead/miniforge3/envs/py3/lib/python3.11/site-packages (from llama-index-core<0.13,>=0.12.43->llama-index) (9.0.0)\n",
      "Requirement already satisfied: tiktoken>=0.7.0 in /Users/glangmead/miniforge3/envs/py3/lib/python3.11/site-packages (from llama-index-core<0.13,>=0.12.43->llama-index) (0.9.0)\n",
      "Requirement already satisfied: tqdm<5,>=4.66.1 in /Users/glangmead/miniforge3/envs/py3/lib/python3.11/site-packages (from llama-index-core<0.13,>=0.12.43->llama-index) (4.67.1)\n",
      "Requirement already satisfied: typing-extensions>=4.5.0 in /Users/glangmead/miniforge3/envs/py3/lib/python3.11/site-packages (from llama-index-core<0.13,>=0.12.43->llama-index) (4.13.2)\n",
      "Requirement already satisfied: typing-inspect>=0.8.0 in /Users/glangmead/miniforge3/envs/py3/lib/python3.11/site-packages (from llama-index-core<0.13,>=0.12.43->llama-index) (0.9.0)\n",
      "Requirement already satisfied: wrapt in /Users/glangmead/miniforge3/envs/py3/lib/python3.11/site-packages (from llama-index-core<0.13,>=0.12.43->llama-index) (1.17.2)\n",
      "Requirement already satisfied: aiohappyeyeballs>=2.3.0 in /Users/glangmead/miniforge3/envs/py3/lib/python3.11/site-packages (from aiohttp<4,>=3.8.6->llama-index-core<0.13,>=0.12.43->llama-index) (2.6.1)\n",
      "Requirement already satisfied: aiosignal>=1.1.2 in /Users/glangmead/miniforge3/envs/py3/lib/python3.11/site-packages (from aiohttp<4,>=3.8.6->llama-index-core<0.13,>=0.12.43->llama-index) (1.3.2)\n",
      "Requirement already satisfied: attrs>=17.3.0 in /Users/glangmead/miniforge3/envs/py3/lib/python3.11/site-packages (from aiohttp<4,>=3.8.6->llama-index-core<0.13,>=0.12.43->llama-index) (25.3.0)\n",
      "Requirement already satisfied: frozenlist>=1.1.1 in /Users/glangmead/miniforge3/envs/py3/lib/python3.11/site-packages (from aiohttp<4,>=3.8.6->llama-index-core<0.13,>=0.12.43->llama-index) (1.6.0)\n",
      "Requirement already satisfied: multidict<7.0,>=4.5 in /Users/glangmead/miniforge3/envs/py3/lib/python3.11/site-packages (from aiohttp<4,>=3.8.6->llama-index-core<0.13,>=0.12.43->llama-index) (6.4.3)\n",
      "Requirement already satisfied: propcache>=0.2.0 in /Users/glangmead/miniforge3/envs/py3/lib/python3.11/site-packages (from aiohttp<4,>=3.8.6->llama-index-core<0.13,>=0.12.43->llama-index) (0.3.1)\n",
      "Requirement already satisfied: yarl<2.0,>=1.17.0 in /Users/glangmead/miniforge3/envs/py3/lib/python3.11/site-packages (from aiohttp<4,>=3.8.6->llama-index-core<0.13,>=0.12.43->llama-index) (1.20.0)\n",
      "Requirement already satisfied: griffe in /Users/glangmead/miniforge3/envs/py3/lib/python3.11/site-packages (from banks<3,>=2.0.0->llama-index-core<0.13,>=0.12.43->llama-index) (1.7.3)\n",
      "Requirement already satisfied: jinja2 in /Users/glangmead/miniforge3/envs/py3/lib/python3.11/site-packages (from banks<3,>=2.0.0->llama-index-core<0.13,>=0.12.43->llama-index) (3.1.6)\n",
      "Requirement already satisfied: platformdirs in /Users/glangmead/miniforge3/envs/py3/lib/python3.11/site-packages (from banks<3,>=2.0.0->llama-index-core<0.13,>=0.12.43->llama-index) (4.3.8)\n",
      "Requirement already satisfied: beautifulsoup4<5,>=4.12.3 in /Users/glangmead/miniforge3/envs/py3/lib/python3.11/site-packages (from llama-index-readers-file<0.5,>=0.4.0->llama-index) (4.13.4)\n",
      "Requirement already satisfied: pandas<2.3.0 in /Users/glangmead/miniforge3/envs/py3/lib/python3.11/site-packages (from llama-index-readers-file<0.5,>=0.4.0->llama-index) (2.2.3)\n",
      "Requirement already satisfied: pypdf<6,>=5.1.0 in /Users/glangmead/miniforge3/envs/py3/lib/python3.11/site-packages (from llama-index-readers-file<0.5,>=0.4.0->llama-index) (5.6.0)\n",
      "Requirement already satisfied: striprtf<0.0.27,>=0.0.26 in /Users/glangmead/miniforge3/envs/py3/lib/python3.11/site-packages (from llama-index-readers-file<0.5,>=0.4.0->llama-index) (0.0.26)\n",
      "Requirement already satisfied: soupsieve>1.2 in /Users/glangmead/miniforge3/envs/py3/lib/python3.11/site-packages (from beautifulsoup4<5,>=4.12.3->llama-index-readers-file<0.5,>=0.4.0->llama-index) (2.7)\n",
      "Requirement already satisfied: anyio<5,>=3.5.0 in /Users/glangmead/miniforge3/envs/py3/lib/python3.11/site-packages (from openai>=1.14.0->llama-index-agent-openai<0.5,>=0.4.0->llama-index) (4.9.0)\n",
      "Requirement already satisfied: distro<2,>=1.7.0 in /Users/glangmead/miniforge3/envs/py3/lib/python3.11/site-packages (from openai>=1.14.0->llama-index-agent-openai<0.5,>=0.4.0->llama-index) (1.9.0)\n",
      "Requirement already satisfied: jiter<1,>=0.4.0 in /Users/glangmead/miniforge3/envs/py3/lib/python3.11/site-packages (from openai>=1.14.0->llama-index-agent-openai<0.5,>=0.4.0->llama-index) (0.9.0)\n",
      "Requirement already satisfied: sniffio in /Users/glangmead/miniforge3/envs/py3/lib/python3.11/site-packages (from openai>=1.14.0->llama-index-agent-openai<0.5,>=0.4.0->llama-index) (1.3.1)\n",
      "Requirement already satisfied: idna>=2.8 in /Users/glangmead/miniforge3/envs/py3/lib/python3.11/site-packages (from anyio<5,>=3.5.0->openai>=1.14.0->llama-index-agent-openai<0.5,>=0.4.0->llama-index) (3.10)\n",
      "Requirement already satisfied: certifi in /Users/glangmead/miniforge3/envs/py3/lib/python3.11/site-packages (from httpx->llama-index-core<0.13,>=0.12.43->llama-index) (2025.4.26)\n",
      "Requirement already satisfied: httpcore==1.* in /Users/glangmead/miniforge3/envs/py3/lib/python3.11/site-packages (from httpx->llama-index-core<0.13,>=0.12.43->llama-index) (1.0.9)\n",
      "Requirement already satisfied: h11>=0.16 in /Users/glangmead/miniforge3/envs/py3/lib/python3.11/site-packages (from httpcore==1.*->httpx->llama-index-core<0.13,>=0.12.43->llama-index) (0.16.0)\n",
      "Requirement already satisfied: python-dateutil>=2.8.2 in /Users/glangmead/miniforge3/envs/py3/lib/python3.11/site-packages (from pandas<2.3.0->llama-index-readers-file<0.5,>=0.4.0->llama-index) (2.9.0.post0)\n",
      "Requirement already satisfied: pytz>=2020.1 in /Users/glangmead/miniforge3/envs/py3/lib/python3.11/site-packages (from pandas<2.3.0->llama-index-readers-file<0.5,>=0.4.0->llama-index) (2024.2)\n",
      "Requirement already satisfied: tzdata>=2022.7 in /Users/glangmead/miniforge3/envs/py3/lib/python3.11/site-packages (from pandas<2.3.0->llama-index-readers-file<0.5,>=0.4.0->llama-index) (2024.2)\n",
      "Requirement already satisfied: annotated-types>=0.6.0 in /Users/glangmead/miniforge3/envs/py3/lib/python3.11/site-packages (from pydantic>=2.8.0->llama-index-core<0.13,>=0.12.43->llama-index) (0.7.0)\n",
      "Requirement already satisfied: pydantic-core==2.33.2 in /Users/glangmead/miniforge3/envs/py3/lib/python3.11/site-packages (from pydantic>=2.8.0->llama-index-core<0.13,>=0.12.43->llama-index) (2.33.2)\n",
      "Requirement already satisfied: typing-inspection>=0.4.0 in /Users/glangmead/miniforge3/envs/py3/lib/python3.11/site-packages (from pydantic>=2.8.0->llama-index-core<0.13,>=0.12.43->llama-index) (0.4.0)\n",
      "Requirement already satisfied: ollama>=0.5.1 in /Users/glangmead/miniforge3/envs/py3/lib/python3.11/site-packages (from llama-index-llms-ollama) (0.5.1)\n",
      "Requirement already satisfied: lxml in /Users/glangmead/miniforge3/envs/py3/lib/python3.11/site-packages (from EbookLib) (5.4.0)\n",
      "Requirement already satisfied: six in /Users/glangmead/miniforge3/envs/py3/lib/python3.11/site-packages (from EbookLib) (1.17.0)\n",
      "Requirement already satisfied: decorator in /Users/glangmead/miniforge3/envs/py3/lib/python3.11/site-packages (from ipython>=6.1.0->ipywidgets) (5.1.1)\n",
      "Requirement already satisfied: jedi>=0.16 in /Users/glangmead/miniforge3/envs/py3/lib/python3.11/site-packages (from ipython>=6.1.0->ipywidgets) (0.19.1)\n",
      "Requirement already satisfied: matplotlib-inline in /Users/glangmead/miniforge3/envs/py3/lib/python3.11/site-packages (from ipython>=6.1.0->ipywidgets) (0.1.7)\n",
      "Requirement already satisfied: prompt-toolkit<3.1.0,>=3.0.41 in /Users/glangmead/miniforge3/envs/py3/lib/python3.11/site-packages (from ipython>=6.1.0->ipywidgets) (3.0.51)\n",
      "Requirement already satisfied: pygments>=2.4.0 in /Users/glangmead/miniforge3/envs/py3/lib/python3.11/site-packages (from ipython>=6.1.0->ipywidgets) (2.19.1)\n",
      "Requirement already satisfied: stack-data in /Users/glangmead/miniforge3/envs/py3/lib/python3.11/site-packages (from ipython>=6.1.0->ipywidgets) (0.6.2)\n",
      "Requirement already satisfied: pexpect>4.3 in /Users/glangmead/miniforge3/envs/py3/lib/python3.11/site-packages (from ipython>=6.1.0->ipywidgets) (4.9.0)\n",
      "Requirement already satisfied: wcwidth in /Users/glangmead/miniforge3/envs/py3/lib/python3.11/site-packages (from prompt-toolkit<3.1.0,>=3.0.41->ipython>=6.1.0->ipywidgets) (0.2.13)\n",
      "Requirement already satisfied: parso<0.9.0,>=0.8.3 in /Users/glangmead/miniforge3/envs/py3/lib/python3.11/site-packages (from jedi>=0.16->ipython>=6.1.0->ipywidgets) (0.8.4)\n",
      "Requirement already satisfied: llama-cloud==0.1.26 in /Users/glangmead/miniforge3/envs/py3/lib/python3.11/site-packages (from llama-index-indices-managed-llama-cloud>=0.4.0->llama-index) (0.1.26)\n",
      "Requirement already satisfied: llama-parse>=0.5.0 in /Users/glangmead/miniforge3/envs/py3/lib/python3.11/site-packages (from llama-index-readers-llama-parse>=0.4.0->llama-index) (0.6.34)\n",
      "Requirement already satisfied: llama-index-instrumentation>=0.1.0 in /Users/glangmead/miniforge3/envs/py3/lib/python3.11/site-packages (from llama-index-workflows>=0.2.1->llama-index-core<0.13,>=0.12.43->llama-index) (0.1.0)\n",
      "Requirement already satisfied: llama-cloud-services>=0.6.32 in /Users/glangmead/miniforge3/envs/py3/lib/python3.11/site-packages (from llama-parse>=0.5.0->llama-index-readers-llama-parse>=0.4.0->llama-index) (0.6.34)\n",
      "Requirement already satisfied: click<9.0.0,>=8.1.7 in /Users/glangmead/miniforge3/envs/py3/lib/python3.11/site-packages (from llama-cloud-services>=0.6.32->llama-parse>=0.5.0->llama-index-readers-llama-parse>=0.4.0->llama-index) (8.1.8)\n",
      "Requirement already satisfied: python-dotenv<2.0.0,>=1.0.1 in /Users/glangmead/miniforge3/envs/py3/lib/python3.11/site-packages (from llama-cloud-services>=0.6.32->llama-parse>=0.5.0->llama-index-readers-llama-parse>=0.4.0->llama-index) (1.1.0)\n",
      "Requirement already satisfied: joblib in /Users/glangmead/miniforge3/envs/py3/lib/python3.11/site-packages (from nltk>3.8.1->llama-index) (1.4.2)\n",
      "Requirement already satisfied: regex>=2021.8.3 in /Users/glangmead/miniforge3/envs/py3/lib/python3.11/site-packages (from nltk>3.8.1->llama-index) (2024.11.6)\n",
      "Requirement already satisfied: ptyprocess>=0.5 in /Users/glangmead/miniforge3/envs/py3/lib/python3.11/site-packages (from pexpect>4.3->ipython>=6.1.0->ipywidgets) (0.7.0)\n",
      "Requirement already satisfied: charset-normalizer<4,>=2 in /Users/glangmead/miniforge3/envs/py3/lib/python3.11/site-packages (from requests>=2.31.0->llama-index-core<0.13,>=0.12.43->llama-index) (3.4.2)\n",
      "Requirement already satisfied: urllib3<3,>=1.21.1 in /Users/glangmead/miniforge3/envs/py3/lib/python3.11/site-packages (from requests>=2.31.0->llama-index-core<0.13,>=0.12.43->llama-index) (2.4.0)\n",
      "Requirement already satisfied: greenlet!=0.4.17 in /Users/glangmead/miniforge3/envs/py3/lib/python3.11/site-packages (from sqlalchemy[asyncio]>=1.4.49->llama-index-core<0.13,>=0.12.43->llama-index) (3.2.3)\n",
      "Requirement already satisfied: mypy-extensions>=0.3.0 in /Users/glangmead/miniforge3/envs/py3/lib/python3.11/site-packages (from typing-inspect>=0.8.0->llama-index-core<0.13,>=0.12.43->llama-index) (1.1.0)\n",
      "Requirement already satisfied: marshmallow<4.0.0,>=3.18.0 in /Users/glangmead/miniforge3/envs/py3/lib/python3.11/site-packages (from dataclasses-json->llama-index-core<0.13,>=0.12.43->llama-index) (3.26.1)\n",
      "Requirement already satisfied: packaging>=17.0 in /Users/glangmead/miniforge3/envs/py3/lib/python3.11/site-packages (from marshmallow<4.0.0,>=3.18.0->dataclasses-json->llama-index-core<0.13,>=0.12.43->llama-index) (24.2)\n",
      "Requirement already satisfied: colorama>=0.4 in /Users/glangmead/miniforge3/envs/py3/lib/python3.11/site-packages (from griffe->banks<3,>=2.0.0->llama-index-core<0.13,>=0.12.43->llama-index) (0.4.5)\n",
      "Requirement already satisfied: MarkupSafe>=2.0 in /Users/glangmead/miniforge3/envs/py3/lib/python3.11/site-packages (from jinja2->banks<3,>=2.0.0->llama-index-core<0.13,>=0.12.43->llama-index) (3.0.2)\n",
      "Requirement already satisfied: executing>=1.2.0 in /Users/glangmead/miniforge3/envs/py3/lib/python3.11/site-packages (from stack-data->ipython>=6.1.0->ipywidgets) (2.1.0)\n",
      "Requirement already satisfied: asttokens>=2.1.0 in /Users/glangmead/miniforge3/envs/py3/lib/python3.11/site-packages (from stack-data->ipython>=6.1.0->ipywidgets) (2.4.1)\n",
      "Requirement already satisfied: pure-eval in /Users/glangmead/miniforge3/envs/py3/lib/python3.11/site-packages (from stack-data->ipython>=6.1.0->ipywidgets) (0.2.3)\n",
      "Downloading ipywidgets-8.1.7-py3-none-any.whl (139 kB)\n",
      "Downloading jupyterlab_widgets-3.0.15-py3-none-any.whl (216 kB)\n",
      "Downloading widgetsnbextension-4.0.14-py3-none-any.whl (2.2 MB)\n",
      "\u001b[2K   \u001b[38;2;114;156;31m━━━━━━━━━━━━━━━━━━━━━━━━━━━━━━━━━━━━━━━━\u001b[0m \u001b[32m2.2/2.2 MB\u001b[0m \u001b[31m42.0 MB/s\u001b[0m eta \u001b[36m0:00:00\u001b[0m\n",
      "\u001b[?25hInstalling collected packages: widgetsnbextension, jupyterlab_widgets, ipywidgets\n",
      "\u001b[2K   \u001b[38;2;114;156;31m━━━━━━━━━━━━━━━━━━━━━━━━━━━━━━━━━━━━━━━━\u001b[0m \u001b[32m3/3\u001b[0m [ipywidgets]\n",
      "\u001b[1A\u001b[2KSuccessfully installed ipywidgets-8.1.7 jupyterlab_widgets-3.0.15 widgetsnbextension-4.0.14\n",
      "Note: you may need to restart the kernel to use updated packages.\n"
     ]
    }
   ],
   "source": [
    "%pip install ipywidgets llama-index llama-index-llms-ollama llama-index-embeddings-ollama EbookLib html2text"
   ]
  },
  {
   "cell_type": "code",
   "execution_count": null,
   "id": "38285ff0-591d-4d41-b53e-c8875439c5bf",
   "metadata": {},
   "outputs": [
    {
     "data": {
      "application/vnd.jupyter.widget-view+json": {
       "model_id": "5a9858e57b3a474d96641c9047b86dd7",
       "version_major": 2,
       "version_minor": 0
      },
      "text/plain": [
       "Generating embeddings:   0%|          | 0/2048 [00:00<?, ?it/s]"
      ]
     },
     "metadata": {},
     "output_type": "display_data"
    },
    {
     "data": {
      "application/vnd.jupyter.widget-view+json": {
       "model_id": "651372edb2964c04a1c6dbe2812e17e5",
       "version_major": 2,
       "version_minor": 0
      },
      "text/plain": [
       "Generating embeddings:   0%|          | 0/2048 [00:00<?, ?it/s]"
      ]
     },
     "metadata": {},
     "output_type": "display_data"
    }
   ],
   "source": [
    "import os\n",
    "\n",
    "from llama_index.core import load_index_from_storage, Settings, Document, SimpleDirectoryReader, StorageContext, VectorStoreIndex\n",
    "from llama_index.core.node_parser import SentenceWindowNodeParser\n",
    "from llama_index.embeddings.ollama import OllamaEmbedding\n",
    "\n",
    "UNIVERSE=\"universe1\"\n",
    "MODEL=\"llama3.2:3b-instruct-q8_0\"\n",
    "\n",
    "ollama_embedding = OllamaEmbedding(\n",
    "    model_name=MODEL,\n",
    "    base_url=\"http://localhost:11434\",\n",
    ")\n",
    "\n",
    "node_parser = SentenceWindowNodeParser.from_defaults(\n",
    "    window_size=3,\n",
    "    window_metadata_key=\"window\",\n",
    "    original_text_metadata_key=\"original_text\",\n",
    ")\n",
    "\n",
    "Settings.embed_model=ollama_embedding\n",
    "\n",
    "VECTOR_STORE_DISK=f\"{UNIVERSE}.{MODEL}.index\"\n",
    "if not os.path.exists(VECTOR_STORE_DISK):\n",
    "    reader = SimpleDirectoryReader(input_dir=UNIVERSE, recursive=True)\n",
    "    documents = reader.load_data()\n",
    "    nodes = node_parser.get_nodes_from_documents(documents)\n",
    "    index = VectorStoreIndex(nodes, show_progress=True)\n",
    "    index.storage_context.persist(VECTOR_STORE_DISK)\n",
    "\n",
    "index = load_index_from_storage(StorageContext.from_defaults(persist_dir=VECTOR_STORE_DISK))\n",
    "endpoint = index.as_retriever(similarity_top_k=10)\n"
   ]
  },
  {
   "cell_type": "code",
   "execution_count": 107,
   "id": "1d866c7b-fbb7-4ba1-bee6-8e58335b0150",
   "metadata": {},
   "outputs": [
    {
     "name": "stdout",
     "output_type": "stream",
     "text": [
      "1. You may think them wonderful, but I have seen a greater wonder in this land, more beautiful than any grove or glade that ever grew: my heart is still full of it.  \n",
      "2. Not only was there wonderful sunshine and delicious rain, in due times and perfect measure, but there seemed something more: an air of richness and growth, and a gleam of a beauty beyond that of mortal summers that flicker and pass upon this Middle- earth. \n",
      "3. In the Party Field a beautiful young sapling leaped up: it had silver bark and long leaves and burst into golden flowers in April. \n",
      "4. It is a rich and pleasant land, and its grass has no rival; but in these evil days folk do not dwell by the River or ride often to its shores. \n",
      "5. And they observed the winds and the air, and the matters of which Arda was made, of iron and stone and silver and gold and many substances: but of all these water they most greatly praised. \n",
      "6. Leaf and branch, water and stone: they have the hue and beauty of all these things under the twilight of Lórien that we love; for we put the thought of all that we love into all that we make. \n",
      "7. Upon the south side of the lawn there stood the mightiest of all the trees; its great smooth bole gleamed like grey silk, and up it towered, until its first branches, far above, opened their huge limbs under shadowy clouds of leaves. \n",
      "8. Far away it seemed, and beautiful: white-walled, many-towered, proud and fair upon its mountain-seat; its battlements glittered with steel, and its turrets were bright with many banners. \n",
      "9. He walked along the terraces above the loud-flowing Bruinen and watched the pale, cool sun rise above the far mountains, and shine down, slanting through the thin silver mist; the dew upon the yellow leaves was glimmering, and the woven nets of gossamer twinkled on every bush. \n",
      "10. But the Entwives gave their minds to the lesser trees, and to the meads in the sunshine beyond the feet of the forests; and they saw the sloe in the thicket, and the wild apple and the cherry blossoming in spring, and the green herbs in the waterlands in summer, and the seeding grasses in the autumn fields. \n"
     ]
    }
   ],
   "source": [
    "response = endpoint.retrieve(\"The rapturous beauty of nature\")\n",
    "for i in range(len(response)):\n",
    "    print(f\"{i+1}. \" +response[i].text.replace(\"\\n\", \" \"))"
   ]
  }
 ],
 "metadata": {
  "kernelspec": {
   "display_name": "Python [conda env:py3] *",
   "language": "python",
   "name": "conda-env-py3-py"
  },
  "language_info": {
   "codemirror_mode": {
    "name": "ipython",
    "version": 3
   },
   "file_extension": ".py",
   "mimetype": "text/x-python",
   "name": "python",
   "nbconvert_exporter": "python",
   "pygments_lexer": "ipython3",
   "version": "3.11.0"
  }
 },
 "nbformat": 4,
 "nbformat_minor": 5
}
